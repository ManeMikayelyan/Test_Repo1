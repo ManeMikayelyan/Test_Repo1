{
 "cells": [
  {
   "cell_type": "code",
   "execution_count": 1,
   "metadata": {},
   "outputs": [
    {
     "name": "stdout",
     "output_type": "stream",
     "text": [
      "What is your name?Mane\n",
      "How old are you?25\n",
      "['hello', 1, True, 'Mane', '25']\n"
     ]
    }
   ],
   "source": [
    "list1 = [\"hello\", 1, True]\n",
    "name = input(\"What is your name?\")\n",
    "age = input(\"How old are you?\")\n",
    "list1.append(name)\n",
    "list1.append(age)\n",
    "print(list1)"
   ]
  },
  {
   "cell_type": "code",
   "execution_count": 3,
   "metadata": {},
   "outputs": [
    {
     "name": "stdout",
     "output_type": "stream",
     "text": [
      "['sea', 'vacation', 'dream']\n"
     ]
    }
   ],
   "source": [
    "list2 = [ \"morning\", \"sea\", \"vacation\", \"dream\", \"eror\", 404]\n",
    "list2.pop(5)\n",
    "list2.pop(4)\n",
    "list2.pop(0)\n",
    "print(list2)"
   ]
  },
  {
   "cell_type": "code",
   "execution_count": 13,
   "metadata": {},
   "outputs": [
    {
     "name": "stdout",
     "output_type": "stream",
     "text": [
      "Say a number15\n",
      "False\n"
     ]
    }
   ],
   "source": [
    "set1 = (1, 2, 3, 4, 5, 6 ,7)\n",
    "number = int(input(\"Say a number\"))\n",
    "if min(set1)< number < max(set1):\n",
    "    print(True)\n",
    "else:\n",
    "    print(False)"
   ]
  },
  {
   "cell_type": "code",
   "execution_count": 6,
   "metadata": {},
   "outputs": [
    {
     "name": "stdout",
     "output_type": "stream",
     "text": [
      "{'brand': 'Ford', 'model': 'Mustang', 'year': 1969}\n",
      "What key do you add?color\n",
      "What color is the car?black\n",
      "{'brand': 'Ford', 'model': 'Mustang', 'year': 1969, 'color': 'black'}\n"
     ]
    }
   ],
   "source": [
    "dict1 = {\"brand\": \"Ford\",\n",
    "  \"model\": \"Mustang\",\n",
    "  \"year\": 1969 }\n",
    "print(dict1)\n",
    "info = input(\"What key do you add?\")\n",
    "color = input(\"What color is the car?\")\n",
    "dict1[info]=color\n",
    "print(dict1)"
   ]
  },
  {
   "cell_type": "code",
   "execution_count": 8,
   "metadata": {},
   "outputs": [
    {
     "name": "stdout",
     "output_type": "stream",
     "text": [
      "square\n"
     ]
    }
   ],
   "source": [
    "a= 7\n",
    "b= 7\n",
    "if a == b:\n",
    "    print(\"square\")\n",
    "else:\n",
    "    print(\"rectangle\")"
   ]
  },
  {
   "cell_type": "code",
   "execution_count": 24,
   "metadata": {},
   "outputs": [
    {
     "name": "stdout",
     "output_type": "stream",
     "text": [
      "Dear Mr Tigran, you are too young to register\n",
      "Please enter a different password\n"
     ]
    }
   ],
   "source": [
    "name = \"Tigran\"\n",
    "age = 14\n",
    "password = \"bla_bla\"\n",
    "if name == \"Batman\":\n",
    "    print(\"Hello Mr. Batman\")\n",
    "if age< 16:\n",
    "    print(\"Dear Mr %s, you are too young to register\" % name)\n",
    "if \"*\" or \"&\" not in password:\n",
    "    print(\"Please enter a different password\")"
   ]
  },
  {
   "cell_type": "code",
   "execution_count": 27,
   "metadata": {},
   "outputs": [
    {
     "name": "stdout",
     "output_type": "stream",
     "text": [
      "1\n",
      "3\n",
      "5\n",
      "7\n",
      "9\n",
      "11\n",
      "13\n",
      "15\n",
      "17\n",
      "19\n",
      "21\n",
      "23\n",
      "25\n",
      "27\n",
      "29\n",
      "31\n",
      "33\n",
      "35\n",
      "37\n",
      "39\n",
      "41\n",
      "43\n",
      "45\n",
      "47\n",
      "49\n",
      "51\n",
      "53\n",
      "55\n",
      "57\n",
      "59\n",
      "61\n",
      "63\n",
      "65\n",
      "67\n",
      "69\n",
      "71\n",
      "73\n",
      "75\n",
      "77\n",
      "79\n",
      "81\n",
      "83\n",
      "85\n",
      "87\n",
      "89\n",
      "91\n",
      "93\n",
      "95\n",
      "97\n",
      "99\n"
     ]
    }
   ],
   "source": [
    "x= range(0,100)\n",
    "for y in x:\n",
    "    if y%2==1:\n",
    "        print(y)\n",
    "    else:\n",
    "        continue"
   ]
  },
  {
   "cell_type": "code",
   "execution_count": 28,
   "metadata": {},
   "outputs": [],
   "source": [
    "x= range(20)\n",
    "for y in x:\n",
    "    if y%3 == 0 and y%5 == 0:\n",
    "        break"
   ]
  },
  {
   "cell_type": "code",
   "execution_count": 30,
   "metadata": {},
   "outputs": [
    {
     "name": "stdout",
     "output_type": "stream",
     "text": [
      "[25, 30, 35, 40]\n"
     ]
    }
   ],
   "source": [
    "list1 = [5, 10, 15, 20, 25, 30, 35, 40]\n",
    "list2 = [x for x in list1 if x>20]\n",
    "print(list2)"
   ]
  },
  {
   "cell_type": "code",
   "execution_count": null,
   "metadata": {},
   "outputs": [],
   "source": []
  }
 ],
 "metadata": {
  "kernelspec": {
   "display_name": "Python 3",
   "language": "python",
   "name": "python3"
  },
  "language_info": {
   "codemirror_mode": {
    "name": "ipython",
    "version": 3
   },
   "file_extension": ".py",
   "mimetype": "text/x-python",
   "name": "python",
   "nbconvert_exporter": "python",
   "pygments_lexer": "ipython3",
   "version": "3.7.6"
  }
 },
 "nbformat": 4,
 "nbformat_minor": 4
}
