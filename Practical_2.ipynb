{
 "cells": [
  {
   "cell_type": "markdown",
   "metadata": {},
   "source": [
    "Problem 1"
   ]
  },
  {
   "cell_type": "code",
   "execution_count": 42,
   "metadata": {},
   "outputs": [
    {
     "data": {
      "text/plain": [
       "7.0"
      ]
     },
     "execution_count": 42,
     "metadata": {},
     "output_type": "execute_result"
    }
   ],
   "source": [
    "def average(a,b,c):\n",
    "    return (a+b+c)/3\n",
    "average(6,7,8)"
   ]
  },
  {
   "cell_type": "code",
   "execution_count": null,
   "metadata": {},
   "outputs": [],
   "source": [
    "Problem 2"
   ]
  },
  {
   "cell_type": "code",
   "execution_count": 7,
   "metadata": {},
   "outputs": [
    {
     "data": {
      "text/plain": [
       "4"
      ]
     },
     "execution_count": 7,
     "metadata": {},
     "output_type": "execute_result"
    }
   ],
   "source": [
    "def int_func(l):\n",
    "    list2 = [x for x in l if x%2 == 0]\n",
    "    return len(list2)\n",
    "int_func([1, 2, 3, 4, 5, 6, 7, 8])"
   ]
  },
  {
   "cell_type": "code",
   "execution_count": null,
   "metadata": {},
   "outputs": [],
   "source": [
    "Problem 3"
   ]
  },
  {
   "cell_type": "code",
   "execution_count": 30,
   "metadata": {},
   "outputs": [
    {
     "name": "stdout",
     "output_type": "stream",
     "text": [
      " Bob your average grade is: 26.0\n"
     ]
    }
   ],
   "source": [
    "def foo(name, *args):\n",
    "    if len(args)>0:\n",
    "        sum = 0\n",
    "        for x in args:\n",
    "            sum= sum + x\n",
    "            avg = sum / len(args)\n",
    "    \n",
    "        print(\" %s your average grade is: %s\" % (name, avg))\n",
    "    else:\n",
    "        print(\"No grades availble for %s\" %name)\n",
    "foo(\"Bob\", 25, 26, 27)"
   ]
  },
  {
   "cell_type": "code",
   "execution_count": null,
   "metadata": {},
   "outputs": [],
   "source": [
    "Problem 4"
   ]
  },
  {
   "cell_type": "code",
   "execution_count": 45,
   "metadata": {},
   "outputs": [
    {
     "name": "stdout",
     "output_type": "stream",
     "text": [
      "A red circle with radius 5\n"
     ]
    }
   ],
   "source": [
    "class Circle:\n",
    "    def __init__(self, radius, color):\n",
    "        self.radius= radius\n",
    "        self.color = color\n",
    "    def getDesc(self):\n",
    "        print(\"A %s circle with radius %s\" %(self.radius, self.color))\n",
    "circle_1 = Circle(\"red\", 5)\n",
    "circle_1.getDesc()\n",
    "    "
   ]
  },
  {
   "cell_type": "markdown",
   "metadata": {},
   "source": [
    "Problem 5"
   ]
  },
  {
   "cell_type": "code",
   "execution_count": 41,
   "metadata": {},
   "outputs": [
    {
     "name": "stdout",
     "output_type": "stream",
     "text": [
      "name, last_name : Jon Smith\n",
      "Low\n"
     ]
    }
   ],
   "source": [
    "class Employee:\n",
    "    def __init__(self, name, last_name, monthly_salary):\n",
    "        self.name = name\n",
    "        self.last_name = last_name\n",
    "        self.__monthly_salary = monthly_salary\n",
    "    \n",
    "    def getFullName(self):\n",
    "        print(\"name, last_name :\", self.name, self.last_name)\n",
    "        \n",
    "    def annualSalary(self):\n",
    "        if self.__monthly_salary > 100:\n",
    "            print(\"High\")\n",
    "        else:\n",
    "            print(\"Low\")\n",
    "            \n",
    "emp_1 = Employee(\"Jon\", \"Smith\", 90)\n",
    "\n",
    "emp_1.getFullName()\n",
    "emp_1.annualSalary()\n",
    "    "
   ]
  },
  {
   "cell_type": "markdown",
   "metadata": {},
   "source": [
    "Problem 6"
   ]
  },
  {
   "cell_type": "code",
   "execution_count": 50,
   "metadata": {},
   "outputs": [
    {
     "name": "stdout",
     "output_type": "stream",
     "text": [
      "Car 1 is better than car 2\n"
     ]
    }
   ],
   "source": [
    "class Car:\n",
    "    def __init__(self, model, color, max_speed):\n",
    "        self.model = model\n",
    "        self.color = color\n",
    "        self.max_speed = max_speed\n",
    "        \n",
    "    def compareCar(self, car2):\n",
    "        self.car2 = car2\n",
    "        if self.max_speed > car2.max_speed:\n",
    "            print(\"Car 1 is better than car 2\")\n",
    "        else:\n",
    "            print(\"Car 2 is better than car \")\n",
    "            \n",
    "car_1 = Car(\"BMW\",  \"black\", 200)\n",
    "car_2 = Car(\"BMW\",  \"black\", 100)\n",
    "car_1.compareCar(car_2)\n",
    "            "
   ]
  },
  {
   "cell_type": "markdown",
   "metadata": {},
   "source": [
    "Problem 7"
   ]
  },
  {
   "cell_type": "code",
   "execution_count": 59,
   "metadata": {},
   "outputs": [
    {
     "name": "stdout",
     "output_type": "stream",
     "text": [
      "I can run really fast.\n"
     ]
    }
   ],
   "source": [
    "class Animal:\n",
    "    def __init__(self, name):\n",
    "        self.name = name\n",
    "    def move(self):\n",
    "        print(\"I can move\")\n",
    "\n",
    "class Dog(Animal):\n",
    "    def __init__(self):\n",
    "        self.name = \"Dog\"\n",
    "    def move(self):\n",
    "        print(\"I can run really fast.\")\n",
    "\n",
    "dog_1 = Dog()\n",
    "dog_1.move()\n",
    "        "
   ]
  },
  {
   "cell_type": "code",
   "execution_count": null,
   "metadata": {},
   "outputs": [],
   "source": []
  }
 ],
 "metadata": {
  "kernelspec": {
   "display_name": "Python 3",
   "language": "python",
   "name": "python3"
  },
  "language_info": {
   "codemirror_mode": {
    "name": "ipython",
    "version": 3
   },
   "file_extension": ".py",
   "mimetype": "text/x-python",
   "name": "python",
   "nbconvert_exporter": "python",
   "pygments_lexer": "ipython3",
   "version": "3.7.6"
  }
 },
 "nbformat": 4,
 "nbformat_minor": 4
}
