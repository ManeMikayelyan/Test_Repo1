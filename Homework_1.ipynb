{
 "cells": [
  {
   "cell_type": "code",
   "execution_count": 12,
   "metadata": {},
   "outputs": [
    {
     "name": "stdout",
     "output_type": "stream",
     "text": [
      "5\n",
      "[1, 5, 6, 10, 4.56, 5, 5]\n",
      "Number of 5s is 3\n"
     ]
    }
   ],
   "source": [
    "list1 = [1, 5, 6,10, 4.56, 5,  5]\n",
    "user = int(input())\n",
    "counted = list1.count(user)\n",
    "print(list1)\n",
    "print(\"Number of %ss is %d\" %(user, counted))"
   ]
  },
  {
   "cell_type": "code",
   "execution_count": 14,
   "metadata": {},
   "outputs": [
    {
     "name": "stdout",
     "output_type": "stream",
     "text": [
      "(10, 11, 12, 13, 14, 15, True)\n",
      "(10, 11, 12, 13, 'Hello', 15, True)\n"
     ]
    }
   ],
   "source": [
    "tup2 = (10, 11, 12, 13, 14, 15, True)\n",
    "list2=list(tup2)\n",
    "list2[4]=\"Hello\"\n",
    "print(tup2)\n",
    "tup2 = tuple(list2)\n",
    "print(tup2)"
   ]
  },
  {
   "cell_type": "code",
   "execution_count": 16,
   "metadata": {},
   "outputs": [
    {
     "name": "stdout",
     "output_type": "stream",
     "text": [
      "50\n",
      "{'name': 'Armen', 'age': 15, 'grades': [10, 8, 8, 4, 6, 7], 'weigth': '50'}\n"
     ]
    }
   ],
   "source": [
    "d = {\"name\": \"Armen\", \"age\": 15, \"grades\": [10, 8, 8, 4, 6, 7]}\n",
    "if \"weight\" not in d:\n",
    "    kg = input()\n",
    "    d[\"weigth\"]=kg\n",
    "    print(d)\n",
    "else:\n",
    "    print(d[\"weight\"])"
   ]
  },
  {
   "cell_type": "code",
   "execution_count": null,
   "metadata": {},
   "outputs": [
    {
     "name": "stdout",
     "output_type": "stream",
     "text": [
      "4\n",
      "7\n",
      "9\n",
      "6\n",
      "5\n",
      "That was a good guess\n"
     ]
    }
   ],
   "source": [
    "for i in range(10):\n",
    "    correct_num = 5\n",
    "    guess = int(input())\n",
    "    if guess == correct_num:\n",
    "        print(\"That was a good guess\")\n",
    "        #break դնում եմ չի աշխատում, սենց էլ ցիկլը չի կանգնում...\n",
    "    else:\n",
    "        continue"
   ]
  },
  {
   "cell_type": "code",
   "execution_count": 12,
   "metadata": {},
   "outputs": [
    {
     "data": {
      "text/plain": [
       "['aba', '1221']"
      ]
     },
     "execution_count": 12,
     "metadata": {},
     "output_type": "execute_result"
    }
   ],
   "source": [
    "list1 = ['a', 'abc', 'xyz', 's', 'aba','1221']\n",
    "[i for i in list1 if len(i)>=2 and i[0]== i[len(i)-1] ]"
   ]
  },
  {
   "cell_type": "code",
   "execution_count": null,
   "metadata": {},
   "outputs": [],
   "source": []
  }
 ],
 "metadata": {
  "kernelspec": {
   "display_name": "Python 3",
   "language": "python",
   "name": "python3"
  },
  "language_info": {
   "codemirror_mode": {
    "name": "ipython",
    "version": 3
   },
   "file_extension": ".py",
   "mimetype": "text/x-python",
   "name": "python",
   "nbconvert_exporter": "python",
   "pygments_lexer": "ipython3",
   "version": "3.7.6"
  }
 },
 "nbformat": 4,
 "nbformat_minor": 4
}
