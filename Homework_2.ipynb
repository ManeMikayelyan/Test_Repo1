{
 "cells": [
  {
   "cell_type": "markdown",
   "metadata": {},
   "source": [
    "Problem 1"
   ]
  },
  {
   "cell_type": "code",
   "execution_count": 20,
   "metadata": {},
   "outputs": [
    {
     "data": {
      "text/plain": [
       "8"
      ]
     },
     "execution_count": 20,
     "metadata": {},
     "output_type": "execute_result"
    }
   ],
   "source": [
    "def my_max(*args):\n",
    "    if len(args) > 0:\n",
    "        return sorted(list(args))[-1]\n",
    "    else:\n",
    "        return \"No numbers given\"\n",
    "my_max(2,5,1,4,8,3)"
   ]
  },
  {
   "cell_type": "markdown",
   "metadata": {},
   "source": [
    "Problem 2"
   ]
  },
  {
   "cell_type": "code",
   "execution_count": 22,
   "metadata": {},
   "outputs": [
    {
     "data": {
      "text/plain": [
       "[1, 2, 3, 4, 5, 6]"
      ]
     },
     "execution_count": 22,
     "metadata": {},
     "output_type": "execute_result"
    }
   ],
   "source": [
    "def unique(list1):\n",
    "    return list(set(list1))\n",
    "unique([1,2,3,2,4,5,5,6])"
   ]
  },
  {
   "cell_type": "markdown",
   "metadata": {},
   "source": [
    "Problem 3"
   ]
  },
  {
   "cell_type": "code",
   "execution_count": 20,
   "metadata": {},
   "outputs": [
    {
     "data": {
      "text/plain": [
       "13"
      ]
     },
     "execution_count": 20,
     "metadata": {},
     "output_type": "execute_result"
    }
   ],
   "source": [
    "def my_fib(n):\n",
    "#0, 1, 1, 2, 3, 5, 8, 13, 21, 34, ...\n",
    "    n1 = 0\n",
    "    n2 = 1\n",
    "    count = 2\n",
    "    if n <= 0:\n",
    "        print('Wrong number')\n",
    "    elif n == 1:\n",
    "        print(n1)\n",
    "    else:\n",
    "        while count < n:\n",
    "            nth = n1 + n2\n",
    "            n1 = n2\n",
    "            n2 = nth\n",
    "            count += 1\n",
    "        return nth\n",
    "my_fib(8)"
   ]
  },
  {
   "cell_type": "markdown",
   "metadata": {},
   "source": [
    "Problem 4"
   ]
  },
  {
   "cell_type": "code",
   "execution_count": 21,
   "metadata": {},
   "outputs": [
    {
     "name": "stdout",
     "output_type": "stream",
     "text": [
      "Welcome dear Mr.Bo\n",
      "Bye everyone!\n",
      "123b\n",
      "bla-bla\n"
     ]
    }
   ],
   "source": [
    "class Person:\n",
    "    def __init__(self, name, last_name, age, gender, student, password):\n",
    "        self.name = name\n",
    "        self.last_name = last_name\n",
    "        self.age = age\n",
    "        self.gender = gender\n",
    "        self.student = student\n",
    "        self.__password = password\n",
    "        \n",
    "    def Greeting(self, second_person):\n",
    "        print('Welcome dear Mr.'+ second_person)\n",
    "    \n",
    "    def Goodbye(self):\n",
    "        print('Bye everyone!')\n",
    "        \n",
    "    def Favourite_num(self, num1):\n",
    "        print('My favourite number is %s' % num1)\n",
    "        \n",
    "    def Read_file(self, filename):\n",
    "        new_file = filename + '.txt'\n",
    "        print(open(new_file, 'r'))\n",
    "    \n",
    "    def set_value(self):\n",
    "        self.__password = 'bla-bla'\n",
    "    \n",
    "    def get_value(self):\n",
    "        return self.__password\n",
    "        \n",
    "        \n",
    "\n",
    "per = Person('Jon', 'Smith', 27, 'male', False, '123b')\n",
    "per.Greeting('Bo')\n",
    "per.Goodbye()\n",
    "print(per.get_value())\n",
    "per.set_value()\n",
    "print(per.get_value())\n",
    "    "
   ]
  },
  {
   "cell_type": "markdown",
   "metadata": {},
   "source": [
    "Problem 5"
   ]
  },
  {
   "cell_type": "code",
   "execution_count": 24,
   "metadata": {},
   "outputs": [
    {
     "name": "stdout",
     "output_type": "stream",
     "text": [
      "8\n",
      "2\n",
      "15\n",
      "1.6666666666666667\n"
     ]
    }
   ],
   "source": [
    "class Calculation:\n",
    "    def __init__(self, x, y):\n",
    "        self.x = x\n",
    "        self.y = y\n",
    "    \n",
    "    def addition(self):\n",
    "        print(self.x + self.y)\n",
    "    \n",
    "    def subtraction(self):\n",
    "        print(self.x - self.y)\n",
    "\n",
    "class MyCalculation(Calculation):\n",
    "    def __init__(self):\n",
    "        super().__init__(5,3)\n",
    "    \n",
    "    def multiplication(self):\n",
    "        print(self.x * self.y)\n",
    "    \n",
    "    def division(self):\n",
    "        print(self.x / self.y)\n",
    "\n",
    "num = MyCalculation()\n",
    "num.addition()\n",
    "num.subtraction()\n",
    "num.multiplication()\n",
    "num.division()\n"
   ]
  },
  {
   "cell_type": "code",
   "execution_count": null,
   "metadata": {},
   "outputs": [],
   "source": []
  }
 ],
 "metadata": {
  "kernelspec": {
   "display_name": "Python 3",
   "language": "python",
   "name": "python3"
  },
  "language_info": {
   "codemirror_mode": {
    "name": "ipython",
    "version": 3
   },
   "file_extension": ".py",
   "mimetype": "text/x-python",
   "name": "python",
   "nbconvert_exporter": "python",
   "pygments_lexer": "ipython3",
   "version": "3.7.6"
  }
 },
 "nbformat": 4,
 "nbformat_minor": 4
}
