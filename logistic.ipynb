{
 "cells": [
  {
   "cell_type": "markdown",
   "metadata": {},
   "source": [
    "# Logistic Regression"
   ]
  },
  {
   "cell_type": "code",
   "execution_count": 1,
   "metadata": {},
   "outputs": [],
   "source": [
    "import warnings\n",
    "warnings.filterwarnings('ignore')"
   ]
  },
  {
   "cell_type": "code",
   "execution_count": 2,
   "metadata": {},
   "outputs": [],
   "source": [
    "from sklearn.datasets import load_iris\n",
    "from sklearn.linear_model import LogisticRegression\n",
    "from sklearn.model_selection import train_test_split\n",
    "X, y = load_iris(return_X_y=True)\n",
    "X_train, X_test, y_train, y_test = train_test_split(X, y, test_size=0.2)\n",
    "clf = LogisticRegression(random_state=0).fit(X, y)"
   ]
  },
  {
   "cell_type": "code",
   "execution_count": 33,
   "metadata": {},
   "outputs": [
    {
     "data": {
      "text/plain": [
       "array([0, 0, 0, 0, 0, 0, 0, 0, 0, 0, 0, 0, 0, 0, 0, 0, 0, 0, 0, 0, 0, 0,\n",
       "       0, 0, 0, 0, 0, 0, 0, 0, 0, 0, 0, 0, 0, 0, 0, 0, 0, 0, 0, 0, 0, 0,\n",
       "       0, 0, 0, 0, 0, 0, 1, 1, 1, 1, 1, 1, 1, 1, 1, 1, 1, 1, 1, 1, 1, 1,\n",
       "       1, 1, 1, 1, 1, 1, 1, 1, 1, 1, 1, 1, 1, 1, 1, 1, 1, 1, 1, 1, 1, 1,\n",
       "       1, 1, 1, 1, 1, 1, 1, 1, 1, 1, 1, 1, 2, 2, 2, 2, 2, 2, 2, 2, 2, 2,\n",
       "       2, 2, 2, 2, 2, 2, 2, 2, 2, 2, 2, 2, 2, 2, 2, 2, 2, 2, 2, 2, 2, 2,\n",
       "       2, 2, 2, 2, 2, 2, 2, 2, 2, 2, 2, 2, 2, 2, 2, 2, 2, 2])"
      ]
     },
     "execution_count": 33,
     "metadata": {},
     "output_type": "execute_result"
    }
   ],
   "source": [
    "y"
   ]
  },
  {
   "cell_type": "code",
   "execution_count": 35,
   "metadata": {},
   "outputs": [
    {
     "data": {
      "text/plain": [
       "array([1, 0, 2, 1, 2, 1, 1, 0, 1, 0, 0, 0, 1, 2, 0, 1, 2, 2, 2, 0, 2, 0,\n",
       "       0, 2, 0, 1, 2, 0, 1, 1])"
      ]
     },
     "execution_count": 35,
     "metadata": {},
     "output_type": "execute_result"
    }
   ],
   "source": [
    "clf.predict(X_test)"
   ]
  },
  {
   "cell_type": "code",
   "execution_count": 36,
   "metadata": {},
   "outputs": [
    {
     "data": {
      "text/plain": [
       "array([1, 0, 2, 1, 2, 1, 2, 0, 1, 0, 0, 0, 1, 2, 0, 1, 2, 2, 2, 0, 2, 0,\n",
       "       0, 2, 0, 1, 2, 0, 1, 1])"
      ]
     },
     "execution_count": 36,
     "metadata": {},
     "output_type": "execute_result"
    }
   ],
   "source": [
    "y_test"
   ]
  },
  {
   "cell_type": "code",
   "execution_count": 9,
   "metadata": {},
   "outputs": [
    {
     "data": {
      "text/plain": [
       "array([[2.38735712e-02, 9.59403809e-01, 1.67226193e-02],\n",
       "       [9.86782288e-01, 1.32176989e-02, 1.27640895e-08],\n",
       "       [9.56621117e-01, 4.33788146e-02, 6.82548970e-08],\n",
       "       [9.77375435e-01, 2.26245475e-02, 1.73754790e-08],\n",
       "       [3.10531600e-08, 4.69416805e-03, 9.95305801e-01],\n",
       "       [9.84130492e-01, 1.58694876e-02, 2.04924960e-08],\n",
       "       [1.36321467e-04, 1.56785708e-01, 8.43077970e-01],\n",
       "       [9.72491303e-01, 2.75085592e-02, 1.37345796e-07],\n",
       "       [9.64318306e-01, 3.56816239e-02, 7.03464600e-08],\n",
       "       [2.01467068e-06, 1.26155023e-02, 9.87382483e-01],\n",
       "       [1.05278976e-06, 2.93191104e-02, 9.70679837e-01],\n",
       "       [9.09512265e-03, 9.76439276e-01, 1.44656018e-02],\n",
       "       [9.51861594e-01, 4.81381999e-02, 2.05940436e-07],\n",
       "       [6.15742666e-07, 2.15387435e-02, 9.78460641e-01],\n",
       "       [9.78987640e-01, 2.10123503e-02, 9.60448275e-09],\n",
       "       [9.51610853e-01, 4.83890602e-02, 8.67502034e-08],\n",
       "       [2.50918568e-02, 9.56447435e-01, 1.84607086e-02],\n",
       "       [7.04661669e-03, 9.42870225e-01, 5.00831581e-02],\n",
       "       [4.67821571e-04, 2.34931704e-01, 7.64600474e-01],\n",
       "       [9.85397005e-01, 1.46029834e-02, 1.19238685e-08],\n",
       "       [7.42651024e-02, 9.15195293e-01, 1.05396044e-02],\n",
       "       [5.77299793e-03, 8.59840411e-01, 1.34386591e-01],\n",
       "       [4.81668803e-06, 5.19889556e-02, 9.48006228e-01],\n",
       "       [9.68753423e-01, 3.12465337e-02, 4.31347721e-08],\n",
       "       [7.15936200e-05, 1.36858411e-01, 8.63069996e-01],\n",
       "       [9.89026017e-01, 1.09739713e-02, 1.12705396e-08],\n",
       "       [5.73178092e-04, 4.81058486e-01, 5.18368336e-01],\n",
       "       [2.23537425e-04, 2.50156337e-01, 7.49620126e-01],\n",
       "       [2.09548913e-05, 6.51787317e-02, 9.34800313e-01],\n",
       "       [9.73907771e-01, 2.60921890e-02, 3.99829971e-08]])"
      ]
     },
     "execution_count": 9,
     "metadata": {},
     "output_type": "execute_result"
    }
   ],
   "source": [
    "clf.predict_proba(X_test)"
   ]
  },
  {
   "cell_type": "code",
   "execution_count": 38,
   "metadata": {},
   "outputs": [
    {
     "data": {
      "text/plain": [
       "0.975"
      ]
     },
     "execution_count": 38,
     "metadata": {},
     "output_type": "execute_result"
    }
   ],
   "source": [
    "clf.score(X_train, y_train)"
   ]
  },
  {
   "cell_type": "code",
   "execution_count": 39,
   "metadata": {},
   "outputs": [
    {
     "data": {
      "text/plain": [
       "0.9666666666666667"
      ]
     },
     "execution_count": 39,
     "metadata": {},
     "output_type": "execute_result"
    }
   ],
   "source": [
    "clf.score(X_test, y_test)"
   ]
  },
  {
   "cell_type": "code",
   "execution_count": null,
   "metadata": {},
   "outputs": [],
   "source": []
  },
  {
   "cell_type": "markdown",
   "metadata": {},
   "source": [
    "# Confusion Matrix"
   ]
  },
  {
   "cell_type": "code",
   "execution_count": 3,
   "metadata": {},
   "outputs": [],
   "source": [
    "from sklearn.metrics import confusion_matrix"
   ]
  },
  {
   "cell_type": "code",
   "execution_count": 11,
   "metadata": {},
   "outputs": [
    {
     "data": {
      "text/plain": [
       "array([[50,  0,  0],\n",
       "       [ 0, 47,  3],\n",
       "       [ 0,  1, 49]], dtype=int64)"
      ]
     },
     "execution_count": 11,
     "metadata": {},
     "output_type": "execute_result"
    }
   ],
   "source": [
    "confusion_matrix(y, clf.predict(X))"
   ]
  },
  {
   "cell_type": "code",
   "execution_count": 12,
   "metadata": {},
   "outputs": [
    {
     "data": {
      "text/plain": [
       "array([[1.  , 0.  , 0.  ],\n",
       "       [0.  , 0.94, 0.06],\n",
       "       [0.  , 0.02, 0.98]])"
      ]
     },
     "execution_count": 12,
     "metadata": {},
     "output_type": "execute_result"
    }
   ],
   "source": [
    "confusion_matrix(y, clf.predict(X), normalize='true')"
   ]
  },
  {
   "cell_type": "code",
   "execution_count": null,
   "metadata": {},
   "outputs": [],
   "source": [
    "i"
   ]
  },
  {
   "cell_type": "markdown",
   "metadata": {},
   "source": [
    "# 1. Solve classification problem using 'classification.csv' dataset"
   ]
  },
  {
   "cell_type": "markdown",
   "metadata": {},
   "source": [
    "##### target variable is 'default'. Apply feature selection, feature scaling, cross validation etc. (anything you think is needed)"
   ]
  },
  {
   "cell_type": "code",
   "execution_count": 4,
   "metadata": {},
   "outputs": [
    {
     "data": {
      "text/html": [
       "<div>\n",
       "<style scoped>\n",
       "    .dataframe tbody tr th:only-of-type {\n",
       "        vertical-align: middle;\n",
       "    }\n",
       "\n",
       "    .dataframe tbody tr th {\n",
       "        vertical-align: top;\n",
       "    }\n",
       "\n",
       "    .dataframe thead th {\n",
       "        text-align: right;\n",
       "    }\n",
       "</style>\n",
       "<table border=\"1\" class=\"dataframe\">\n",
       "  <thead>\n",
       "    <tr style=\"text-align: right;\">\n",
       "      <th></th>\n",
       "      <th>age</th>\n",
       "      <th>ed</th>\n",
       "      <th>employ</th>\n",
       "      <th>address</th>\n",
       "      <th>income</th>\n",
       "      <th>debtinc</th>\n",
       "      <th>creddebt</th>\n",
       "      <th>othdebt</th>\n",
       "      <th>default</th>\n",
       "    </tr>\n",
       "  </thead>\n",
       "  <tbody>\n",
       "    <tr>\n",
       "      <th>0</th>\n",
       "      <td>41</td>\n",
       "      <td>college degree</td>\n",
       "      <td>17</td>\n",
       "      <td>12</td>\n",
       "      <td>176</td>\n",
       "      <td>9.3</td>\n",
       "      <td>11.359392</td>\n",
       "      <td>5.008608</td>\n",
       "      <td>1</td>\n",
       "    </tr>\n",
       "    <tr>\n",
       "      <th>1</th>\n",
       "      <td>27</td>\n",
       "      <td>no high school</td>\n",
       "      <td>10</td>\n",
       "      <td>6</td>\n",
       "      <td>31</td>\n",
       "      <td>17.3</td>\n",
       "      <td>1.362202</td>\n",
       "      <td>4.000798</td>\n",
       "      <td>0</td>\n",
       "    </tr>\n",
       "    <tr>\n",
       "      <th>2</th>\n",
       "      <td>40</td>\n",
       "      <td>no high school</td>\n",
       "      <td>15</td>\n",
       "      <td>14</td>\n",
       "      <td>55</td>\n",
       "      <td>5.5</td>\n",
       "      <td>0.856075</td>\n",
       "      <td>2.168925</td>\n",
       "      <td>0</td>\n",
       "    </tr>\n",
       "    <tr>\n",
       "      <th>3</th>\n",
       "      <td>41</td>\n",
       "      <td>no high school</td>\n",
       "      <td>15</td>\n",
       "      <td>14</td>\n",
       "      <td>120</td>\n",
       "      <td>2.9</td>\n",
       "      <td>2.658720</td>\n",
       "      <td>0.821280</td>\n",
       "      <td>0</td>\n",
       "    </tr>\n",
       "    <tr>\n",
       "      <th>4</th>\n",
       "      <td>24</td>\n",
       "      <td>high school</td>\n",
       "      <td>2</td>\n",
       "      <td>0</td>\n",
       "      <td>28</td>\n",
       "      <td>17.3</td>\n",
       "      <td>1.787436</td>\n",
       "      <td>3.056564</td>\n",
       "      <td>1</td>\n",
       "    </tr>\n",
       "  </tbody>\n",
       "</table>\n",
       "</div>"
      ],
      "text/plain": [
       "   age              ed  employ  address  income  debtinc   creddebt   othdebt  \\\n",
       "0   41  college degree      17       12     176      9.3  11.359392  5.008608   \n",
       "1   27  no high school      10        6      31     17.3   1.362202  4.000798   \n",
       "2   40  no high school      15       14      55      5.5   0.856075  2.168925   \n",
       "3   41  no high school      15       14     120      2.9   2.658720  0.821280   \n",
       "4   24     high school       2        0      28     17.3   1.787436  3.056564   \n",
       "\n",
       "   default  \n",
       "0        1  \n",
       "1        0  \n",
       "2        0  \n",
       "3        0  \n",
       "4        1  "
      ]
     },
     "execution_count": 4,
     "metadata": {},
     "output_type": "execute_result"
    }
   ],
   "source": [
    "import pandas as pd\n",
    "df=pd.read_csv('classification.csv')\n",
    "df.head()"
   ]
  },
  {
   "cell_type": "code",
   "execution_count": 5,
   "metadata": {},
   "outputs": [
    {
     "data": {
      "text/plain": [
       "array(['college degree', 'no high school', 'high school', 'undergraduate',\n",
       "       'postgraduate'], dtype=object)"
      ]
     },
     "execution_count": 5,
     "metadata": {},
     "output_type": "execute_result"
    }
   ],
   "source": [
    "df.ed.unique()"
   ]
  },
  {
   "cell_type": "code",
   "execution_count": 6,
   "metadata": {},
   "outputs": [
    {
     "data": {
      "text/html": [
       "<div>\n",
       "<style scoped>\n",
       "    .dataframe tbody tr th:only-of-type {\n",
       "        vertical-align: middle;\n",
       "    }\n",
       "\n",
       "    .dataframe tbody tr th {\n",
       "        vertical-align: top;\n",
       "    }\n",
       "\n",
       "    .dataframe thead th {\n",
       "        text-align: right;\n",
       "    }\n",
       "</style>\n",
       "<table border=\"1\" class=\"dataframe\">\n",
       "  <thead>\n",
       "    <tr style=\"text-align: right;\">\n",
       "      <th></th>\n",
       "      <th>age</th>\n",
       "      <th>employ</th>\n",
       "      <th>address</th>\n",
       "      <th>income</th>\n",
       "      <th>debtinc</th>\n",
       "      <th>creddebt</th>\n",
       "      <th>othdebt</th>\n",
       "      <th>default</th>\n",
       "    </tr>\n",
       "  </thead>\n",
       "  <tbody>\n",
       "    <tr>\n",
       "      <th>age</th>\n",
       "      <td>1.000000</td>\n",
       "      <td>0.536497</td>\n",
       "      <td>0.597591</td>\n",
       "      <td>0.478710</td>\n",
       "      <td>0.016398</td>\n",
       "      <td>0.295207</td>\n",
       "      <td>0.340217</td>\n",
       "      <td>-0.137657</td>\n",
       "    </tr>\n",
       "    <tr>\n",
       "      <th>employ</th>\n",
       "      <td>0.536497</td>\n",
       "      <td>1.000000</td>\n",
       "      <td>0.322334</td>\n",
       "      <td>0.619681</td>\n",
       "      <td>-0.031182</td>\n",
       "      <td>0.403694</td>\n",
       "      <td>0.406091</td>\n",
       "      <td>-0.282978</td>\n",
       "    </tr>\n",
       "    <tr>\n",
       "      <th>address</th>\n",
       "      <td>0.597591</td>\n",
       "      <td>0.322334</td>\n",
       "      <td>1.000000</td>\n",
       "      <td>0.316245</td>\n",
       "      <td>0.011323</td>\n",
       "      <td>0.208435</td>\n",
       "      <td>0.226514</td>\n",
       "      <td>-0.164451</td>\n",
       "    </tr>\n",
       "    <tr>\n",
       "      <th>income</th>\n",
       "      <td>0.478710</td>\n",
       "      <td>0.619681</td>\n",
       "      <td>0.316245</td>\n",
       "      <td>1.000000</td>\n",
       "      <td>-0.026777</td>\n",
       "      <td>0.570199</td>\n",
       "      <td>0.610659</td>\n",
       "      <td>-0.070970</td>\n",
       "    </tr>\n",
       "    <tr>\n",
       "      <th>debtinc</th>\n",
       "      <td>0.016398</td>\n",
       "      <td>-0.031182</td>\n",
       "      <td>0.011323</td>\n",
       "      <td>-0.026777</td>\n",
       "      <td>1.000000</td>\n",
       "      <td>0.501767</td>\n",
       "      <td>0.584870</td>\n",
       "      <td>0.389575</td>\n",
       "    </tr>\n",
       "    <tr>\n",
       "      <th>creddebt</th>\n",
       "      <td>0.295207</td>\n",
       "      <td>0.403694</td>\n",
       "      <td>0.208435</td>\n",
       "      <td>0.570199</td>\n",
       "      <td>0.501767</td>\n",
       "      <td>1.000000</td>\n",
       "      <td>0.633104</td>\n",
       "      <td>0.244740</td>\n",
       "    </tr>\n",
       "    <tr>\n",
       "      <th>othdebt</th>\n",
       "      <td>0.340217</td>\n",
       "      <td>0.406091</td>\n",
       "      <td>0.226514</td>\n",
       "      <td>0.610659</td>\n",
       "      <td>0.584870</td>\n",
       "      <td>0.633104</td>\n",
       "      <td>1.000000</td>\n",
       "      <td>0.145713</td>\n",
       "    </tr>\n",
       "    <tr>\n",
       "      <th>default</th>\n",
       "      <td>-0.137657</td>\n",
       "      <td>-0.282978</td>\n",
       "      <td>-0.164451</td>\n",
       "      <td>-0.070970</td>\n",
       "      <td>0.389575</td>\n",
       "      <td>0.244740</td>\n",
       "      <td>0.145713</td>\n",
       "      <td>1.000000</td>\n",
       "    </tr>\n",
       "  </tbody>\n",
       "</table>\n",
       "</div>"
      ],
      "text/plain": [
       "               age    employ   address    income   debtinc  creddebt  \\\n",
       "age       1.000000  0.536497  0.597591  0.478710  0.016398  0.295207   \n",
       "employ    0.536497  1.000000  0.322334  0.619681 -0.031182  0.403694   \n",
       "address   0.597591  0.322334  1.000000  0.316245  0.011323  0.208435   \n",
       "income    0.478710  0.619681  0.316245  1.000000 -0.026777  0.570199   \n",
       "debtinc   0.016398 -0.031182  0.011323 -0.026777  1.000000  0.501767   \n",
       "creddebt  0.295207  0.403694  0.208435  0.570199  0.501767  1.000000   \n",
       "othdebt   0.340217  0.406091  0.226514  0.610659  0.584870  0.633104   \n",
       "default  -0.137657 -0.282978 -0.164451 -0.070970  0.389575  0.244740   \n",
       "\n",
       "           othdebt   default  \n",
       "age       0.340217 -0.137657  \n",
       "employ    0.406091 -0.282978  \n",
       "address   0.226514 -0.164451  \n",
       "income    0.610659 -0.070970  \n",
       "debtinc   0.584870  0.389575  \n",
       "creddebt  0.633104  0.244740  \n",
       "othdebt   1.000000  0.145713  \n",
       "default   0.145713  1.000000  "
      ]
     },
     "execution_count": 6,
     "metadata": {},
     "output_type": "execute_result"
    }
   ],
   "source": [
    "df.corr()"
   ]
  },
  {
   "cell_type": "code",
   "execution_count": 7,
   "metadata": {},
   "outputs": [],
   "source": [
    "df = pd.get_dummies(df[['age','ed', 'employ', 'address', 'income', 'debtinc','creddebt','othdebt','default']])"
   ]
  },
  {
   "cell_type": "code",
   "execution_count": 8,
   "metadata": {},
   "outputs": [
    {
     "data": {
      "text/html": [
       "<div>\n",
       "<style scoped>\n",
       "    .dataframe tbody tr th:only-of-type {\n",
       "        vertical-align: middle;\n",
       "    }\n",
       "\n",
       "    .dataframe tbody tr th {\n",
       "        vertical-align: top;\n",
       "    }\n",
       "\n",
       "    .dataframe thead th {\n",
       "        text-align: right;\n",
       "    }\n",
       "</style>\n",
       "<table border=\"1\" class=\"dataframe\">\n",
       "  <thead>\n",
       "    <tr style=\"text-align: right;\">\n",
       "      <th></th>\n",
       "      <th>age</th>\n",
       "      <th>employ</th>\n",
       "      <th>address</th>\n",
       "      <th>income</th>\n",
       "      <th>debtinc</th>\n",
       "      <th>creddebt</th>\n",
       "      <th>othdebt</th>\n",
       "      <th>default</th>\n",
       "      <th>ed_college degree</th>\n",
       "      <th>ed_high school</th>\n",
       "      <th>ed_no high school</th>\n",
       "      <th>ed_postgraduate</th>\n",
       "      <th>ed_undergraduate</th>\n",
       "    </tr>\n",
       "  </thead>\n",
       "  <tbody>\n",
       "    <tr>\n",
       "      <th>0</th>\n",
       "      <td>41</td>\n",
       "      <td>17</td>\n",
       "      <td>12</td>\n",
       "      <td>176</td>\n",
       "      <td>9.3</td>\n",
       "      <td>11.359392</td>\n",
       "      <td>5.008608</td>\n",
       "      <td>1</td>\n",
       "      <td>1</td>\n",
       "      <td>0</td>\n",
       "      <td>0</td>\n",
       "      <td>0</td>\n",
       "      <td>0</td>\n",
       "    </tr>\n",
       "    <tr>\n",
       "      <th>1</th>\n",
       "      <td>27</td>\n",
       "      <td>10</td>\n",
       "      <td>6</td>\n",
       "      <td>31</td>\n",
       "      <td>17.3</td>\n",
       "      <td>1.362202</td>\n",
       "      <td>4.000798</td>\n",
       "      <td>0</td>\n",
       "      <td>0</td>\n",
       "      <td>0</td>\n",
       "      <td>1</td>\n",
       "      <td>0</td>\n",
       "      <td>0</td>\n",
       "    </tr>\n",
       "    <tr>\n",
       "      <th>2</th>\n",
       "      <td>40</td>\n",
       "      <td>15</td>\n",
       "      <td>14</td>\n",
       "      <td>55</td>\n",
       "      <td>5.5</td>\n",
       "      <td>0.856075</td>\n",
       "      <td>2.168925</td>\n",
       "      <td>0</td>\n",
       "      <td>0</td>\n",
       "      <td>0</td>\n",
       "      <td>1</td>\n",
       "      <td>0</td>\n",
       "      <td>0</td>\n",
       "    </tr>\n",
       "    <tr>\n",
       "      <th>3</th>\n",
       "      <td>41</td>\n",
       "      <td>15</td>\n",
       "      <td>14</td>\n",
       "      <td>120</td>\n",
       "      <td>2.9</td>\n",
       "      <td>2.658720</td>\n",
       "      <td>0.821280</td>\n",
       "      <td>0</td>\n",
       "      <td>0</td>\n",
       "      <td>0</td>\n",
       "      <td>1</td>\n",
       "      <td>0</td>\n",
       "      <td>0</td>\n",
       "    </tr>\n",
       "    <tr>\n",
       "      <th>4</th>\n",
       "      <td>24</td>\n",
       "      <td>2</td>\n",
       "      <td>0</td>\n",
       "      <td>28</td>\n",
       "      <td>17.3</td>\n",
       "      <td>1.787436</td>\n",
       "      <td>3.056564</td>\n",
       "      <td>1</td>\n",
       "      <td>0</td>\n",
       "      <td>1</td>\n",
       "      <td>0</td>\n",
       "      <td>0</td>\n",
       "      <td>0</td>\n",
       "    </tr>\n",
       "  </tbody>\n",
       "</table>\n",
       "</div>"
      ],
      "text/plain": [
       "   age  employ  address  income  debtinc   creddebt   othdebt  default  \\\n",
       "0   41      17       12     176      9.3  11.359392  5.008608        1   \n",
       "1   27      10        6      31     17.3   1.362202  4.000798        0   \n",
       "2   40      15       14      55      5.5   0.856075  2.168925        0   \n",
       "3   41      15       14     120      2.9   2.658720  0.821280        0   \n",
       "4   24       2        0      28     17.3   1.787436  3.056564        1   \n",
       "\n",
       "   ed_college degree  ed_high school  ed_no high school  ed_postgraduate  \\\n",
       "0                  1               0                  0                0   \n",
       "1                  0               0                  1                0   \n",
       "2                  0               0                  1                0   \n",
       "3                  0               0                  1                0   \n",
       "4                  0               1                  0                0   \n",
       "\n",
       "   ed_undergraduate  \n",
       "0                 0  \n",
       "1                 0  \n",
       "2                 0  \n",
       "3                 0  \n",
       "4                 0  "
      ]
     },
     "execution_count": 8,
     "metadata": {},
     "output_type": "execute_result"
    }
   ],
   "source": [
    "df.head()"
   ]
  },
  {
   "cell_type": "code",
   "execution_count": 9,
   "metadata": {},
   "outputs": [
    {
     "data": {
      "text/html": [
       "<div>\n",
       "<style scoped>\n",
       "    .dataframe tbody tr th:only-of-type {\n",
       "        vertical-align: middle;\n",
       "    }\n",
       "\n",
       "    .dataframe tbody tr th {\n",
       "        vertical-align: top;\n",
       "    }\n",
       "\n",
       "    .dataframe thead th {\n",
       "        text-align: right;\n",
       "    }\n",
       "</style>\n",
       "<table border=\"1\" class=\"dataframe\">\n",
       "  <thead>\n",
       "    <tr style=\"text-align: right;\">\n",
       "      <th></th>\n",
       "      <th>age</th>\n",
       "      <th>employ</th>\n",
       "      <th>address</th>\n",
       "      <th>income</th>\n",
       "      <th>debtinc</th>\n",
       "      <th>creddebt</th>\n",
       "      <th>othdebt</th>\n",
       "      <th>default</th>\n",
       "      <th>ed_college degree</th>\n",
       "      <th>ed_high school</th>\n",
       "      <th>ed_no high school</th>\n",
       "      <th>ed_postgraduate</th>\n",
       "      <th>ed_undergraduate</th>\n",
       "    </tr>\n",
       "  </thead>\n",
       "  <tbody>\n",
       "    <tr>\n",
       "      <th>age</th>\n",
       "      <td>1.000000</td>\n",
       "      <td>0.536497</td>\n",
       "      <td>0.597591</td>\n",
       "      <td>0.478710</td>\n",
       "      <td>0.016398</td>\n",
       "      <td>0.295207</td>\n",
       "      <td>0.340217</td>\n",
       "      <td>-0.137657</td>\n",
       "      <td>0.051031</td>\n",
       "      <td>-0.059646</td>\n",
       "      <td>0.015432</td>\n",
       "      <td>0.082148</td>\n",
       "      <td>-0.020260</td>\n",
       "    </tr>\n",
       "    <tr>\n",
       "      <th>employ</th>\n",
       "      <td>0.536497</td>\n",
       "      <td>1.000000</td>\n",
       "      <td>0.322334</td>\n",
       "      <td>0.619681</td>\n",
       "      <td>-0.031182</td>\n",
       "      <td>0.403694</td>\n",
       "      <td>0.406091</td>\n",
       "      <td>-0.282978</td>\n",
       "      <td>-0.029161</td>\n",
       "      <td>-0.073388</td>\n",
       "      <td>0.146061</td>\n",
       "      <td>0.005245</td>\n",
       "      <td>-0.135290</td>\n",
       "    </tr>\n",
       "    <tr>\n",
       "      <th>address</th>\n",
       "      <td>0.597591</td>\n",
       "      <td>0.322334</td>\n",
       "      <td>1.000000</td>\n",
       "      <td>0.316245</td>\n",
       "      <td>0.011323</td>\n",
       "      <td>0.208435</td>\n",
       "      <td>0.226514</td>\n",
       "      <td>-0.164451</td>\n",
       "      <td>0.058899</td>\n",
       "      <td>0.001322</td>\n",
       "      <td>-0.047697</td>\n",
       "      <td>0.023896</td>\n",
       "      <td>0.007779</td>\n",
       "    </tr>\n",
       "    <tr>\n",
       "      <th>income</th>\n",
       "      <td>0.478710</td>\n",
       "      <td>0.619681</td>\n",
       "      <td>0.316245</td>\n",
       "      <td>1.000000</td>\n",
       "      <td>-0.026777</td>\n",
       "      <td>0.570199</td>\n",
       "      <td>0.610659</td>\n",
       "      <td>-0.070970</td>\n",
       "      <td>0.149451</td>\n",
       "      <td>0.014392</td>\n",
       "      <td>-0.178107</td>\n",
       "      <td>0.163696</td>\n",
       "      <td>0.085204</td>\n",
       "    </tr>\n",
       "    <tr>\n",
       "      <th>debtinc</th>\n",
       "      <td>0.016398</td>\n",
       "      <td>-0.031182</td>\n",
       "      <td>0.011323</td>\n",
       "      <td>-0.026777</td>\n",
       "      <td>1.000000</td>\n",
       "      <td>0.501767</td>\n",
       "      <td>0.584870</td>\n",
       "      <td>0.389575</td>\n",
       "      <td>0.032199</td>\n",
       "      <td>-0.034308</td>\n",
       "      <td>0.005693</td>\n",
       "      <td>-0.042278</td>\n",
       "      <td>0.024489</td>\n",
       "    </tr>\n",
       "    <tr>\n",
       "      <th>creddebt</th>\n",
       "      <td>0.295207</td>\n",
       "      <td>0.403694</td>\n",
       "      <td>0.208435</td>\n",
       "      <td>0.570199</td>\n",
       "      <td>0.501767</td>\n",
       "      <td>1.000000</td>\n",
       "      <td>0.633104</td>\n",
       "      <td>0.244740</td>\n",
       "      <td>0.110548</td>\n",
       "      <td>-0.038828</td>\n",
       "      <td>-0.056229</td>\n",
       "      <td>-0.009532</td>\n",
       "      <td>0.043597</td>\n",
       "    </tr>\n",
       "    <tr>\n",
       "      <th>othdebt</th>\n",
       "      <td>0.340217</td>\n",
       "      <td>0.406091</td>\n",
       "      <td>0.226514</td>\n",
       "      <td>0.610659</td>\n",
       "      <td>0.584870</td>\n",
       "      <td>0.633104</td>\n",
       "      <td>1.000000</td>\n",
       "      <td>0.145713</td>\n",
       "      <td>0.169630</td>\n",
       "      <td>-0.012977</td>\n",
       "      <td>-0.127588</td>\n",
       "      <td>0.080032</td>\n",
       "      <td>0.030057</td>\n",
       "    </tr>\n",
       "    <tr>\n",
       "      <th>default</th>\n",
       "      <td>-0.137657</td>\n",
       "      <td>-0.282978</td>\n",
       "      <td>-0.164451</td>\n",
       "      <td>-0.070970</td>\n",
       "      <td>0.389575</td>\n",
       "      <td>0.244740</td>\n",
       "      <td>0.145713</td>\n",
       "      <td>1.000000</td>\n",
       "      <td>0.071502</td>\n",
       "      <td>0.052241</td>\n",
       "      <td>-0.118909</td>\n",
       "      <td>-0.011857</td>\n",
       "      <td>0.058337</td>\n",
       "    </tr>\n",
       "    <tr>\n",
       "      <th>ed_college degree</th>\n",
       "      <td>0.051031</td>\n",
       "      <td>-0.029161</td>\n",
       "      <td>0.058899</td>\n",
       "      <td>0.149451</td>\n",
       "      <td>0.032199</td>\n",
       "      <td>0.110548</td>\n",
       "      <td>0.169630</td>\n",
       "      <td>0.071502</td>\n",
       "      <td>1.000000</td>\n",
       "      <td>-0.236597</td>\n",
       "      <td>-0.401203</td>\n",
       "      <td>-0.031954</td>\n",
       "      <td>-0.090259</td>\n",
       "    </tr>\n",
       "    <tr>\n",
       "      <th>ed_high school</th>\n",
       "      <td>-0.059646</td>\n",
       "      <td>-0.073388</td>\n",
       "      <td>0.001322</td>\n",
       "      <td>0.014392</td>\n",
       "      <td>-0.034308</td>\n",
       "      <td>-0.038828</td>\n",
       "      <td>-0.012977</td>\n",
       "      <td>0.052241</td>\n",
       "      <td>-0.236597</td>\n",
       "      <td>1.000000</td>\n",
       "      <td>-0.668829</td>\n",
       "      <td>-0.053269</td>\n",
       "      <td>-0.150468</td>\n",
       "    </tr>\n",
       "    <tr>\n",
       "      <th>ed_no high school</th>\n",
       "      <td>0.015432</td>\n",
       "      <td>0.146061</td>\n",
       "      <td>-0.047697</td>\n",
       "      <td>-0.178107</td>\n",
       "      <td>0.005693</td>\n",
       "      <td>-0.056229</td>\n",
       "      <td>-0.127588</td>\n",
       "      <td>-0.118909</td>\n",
       "      <td>-0.401203</td>\n",
       "      <td>-0.668829</td>\n",
       "      <td>1.000000</td>\n",
       "      <td>-0.090329</td>\n",
       "      <td>-0.255151</td>\n",
       "    </tr>\n",
       "    <tr>\n",
       "      <th>ed_postgraduate</th>\n",
       "      <td>0.082148</td>\n",
       "      <td>0.005245</td>\n",
       "      <td>0.023896</td>\n",
       "      <td>0.163696</td>\n",
       "      <td>-0.042278</td>\n",
       "      <td>-0.009532</td>\n",
       "      <td>0.080032</td>\n",
       "      <td>-0.011857</td>\n",
       "      <td>-0.031954</td>\n",
       "      <td>-0.053269</td>\n",
       "      <td>-0.090329</td>\n",
       "      <td>1.000000</td>\n",
       "      <td>-0.020321</td>\n",
       "    </tr>\n",
       "    <tr>\n",
       "      <th>ed_undergraduate</th>\n",
       "      <td>-0.020260</td>\n",
       "      <td>-0.135290</td>\n",
       "      <td>0.007779</td>\n",
       "      <td>0.085204</td>\n",
       "      <td>0.024489</td>\n",
       "      <td>0.043597</td>\n",
       "      <td>0.030057</td>\n",
       "      <td>0.058337</td>\n",
       "      <td>-0.090259</td>\n",
       "      <td>-0.150468</td>\n",
       "      <td>-0.255151</td>\n",
       "      <td>-0.020321</td>\n",
       "      <td>1.000000</td>\n",
       "    </tr>\n",
       "  </tbody>\n",
       "</table>\n",
       "</div>"
      ],
      "text/plain": [
       "                        age    employ   address    income   debtinc  creddebt  \\\n",
       "age                1.000000  0.536497  0.597591  0.478710  0.016398  0.295207   \n",
       "employ             0.536497  1.000000  0.322334  0.619681 -0.031182  0.403694   \n",
       "address            0.597591  0.322334  1.000000  0.316245  0.011323  0.208435   \n",
       "income             0.478710  0.619681  0.316245  1.000000 -0.026777  0.570199   \n",
       "debtinc            0.016398 -0.031182  0.011323 -0.026777  1.000000  0.501767   \n",
       "creddebt           0.295207  0.403694  0.208435  0.570199  0.501767  1.000000   \n",
       "othdebt            0.340217  0.406091  0.226514  0.610659  0.584870  0.633104   \n",
       "default           -0.137657 -0.282978 -0.164451 -0.070970  0.389575  0.244740   \n",
       "ed_college degree  0.051031 -0.029161  0.058899  0.149451  0.032199  0.110548   \n",
       "ed_high school    -0.059646 -0.073388  0.001322  0.014392 -0.034308 -0.038828   \n",
       "ed_no high school  0.015432  0.146061 -0.047697 -0.178107  0.005693 -0.056229   \n",
       "ed_postgraduate    0.082148  0.005245  0.023896  0.163696 -0.042278 -0.009532   \n",
       "ed_undergraduate  -0.020260 -0.135290  0.007779  0.085204  0.024489  0.043597   \n",
       "\n",
       "                    othdebt   default  ed_college degree  ed_high school  \\\n",
       "age                0.340217 -0.137657           0.051031       -0.059646   \n",
       "employ             0.406091 -0.282978          -0.029161       -0.073388   \n",
       "address            0.226514 -0.164451           0.058899        0.001322   \n",
       "income             0.610659 -0.070970           0.149451        0.014392   \n",
       "debtinc            0.584870  0.389575           0.032199       -0.034308   \n",
       "creddebt           0.633104  0.244740           0.110548       -0.038828   \n",
       "othdebt            1.000000  0.145713           0.169630       -0.012977   \n",
       "default            0.145713  1.000000           0.071502        0.052241   \n",
       "ed_college degree  0.169630  0.071502           1.000000       -0.236597   \n",
       "ed_high school    -0.012977  0.052241          -0.236597        1.000000   \n",
       "ed_no high school -0.127588 -0.118909          -0.401203       -0.668829   \n",
       "ed_postgraduate    0.080032 -0.011857          -0.031954       -0.053269   \n",
       "ed_undergraduate   0.030057  0.058337          -0.090259       -0.150468   \n",
       "\n",
       "                   ed_no high school  ed_postgraduate  ed_undergraduate  \n",
       "age                         0.015432         0.082148         -0.020260  \n",
       "employ                      0.146061         0.005245         -0.135290  \n",
       "address                    -0.047697         0.023896          0.007779  \n",
       "income                     -0.178107         0.163696          0.085204  \n",
       "debtinc                     0.005693        -0.042278          0.024489  \n",
       "creddebt                   -0.056229        -0.009532          0.043597  \n",
       "othdebt                    -0.127588         0.080032          0.030057  \n",
       "default                    -0.118909        -0.011857          0.058337  \n",
       "ed_college degree          -0.401203        -0.031954         -0.090259  \n",
       "ed_high school             -0.668829        -0.053269         -0.150468  \n",
       "ed_no high school           1.000000        -0.090329         -0.255151  \n",
       "ed_postgraduate            -0.090329         1.000000         -0.020321  \n",
       "ed_undergraduate           -0.255151        -0.020321          1.000000  "
      ]
     },
     "execution_count": 9,
     "metadata": {},
     "output_type": "execute_result"
    }
   ],
   "source": [
    "y=df.default\n",
    "df.corr()"
   ]
  },
  {
   "cell_type": "code",
   "execution_count": 10,
   "metadata": {},
   "outputs": [
    {
     "data": {
      "text/plain": [
       "0      1\n",
       "1      0\n",
       "2      0\n",
       "3      0\n",
       "4      1\n",
       "      ..\n",
       "695    1\n",
       "696    0\n",
       "697    0\n",
       "698    0\n",
       "699    0\n",
       "Name: default, Length: 700, dtype: int64"
      ]
     },
     "execution_count": 10,
     "metadata": {},
     "output_type": "execute_result"
    }
   ],
   "source": [
    "y"
   ]
  },
  {
   "cell_type": "code",
   "execution_count": 11,
   "metadata": {},
   "outputs": [],
   "source": [
    "X_train, X_test, y_train, y_test = train_test_split(df[['age', 'creddebt', 'debtinc', 'ed_college degree', 'ed_high school','ed_no high school', 'ed_postgraduate', 'ed_undergraduate', 'employ','income', 'othdebt']],y, test_size=0.2, random_state=42)"
   ]
  },
  {
   "cell_type": "code",
   "execution_count": 12,
   "metadata": {},
   "outputs": [
    {
     "data": {
      "text/plain": [
       "array([0, 1, 0, 0, 0, 0, 0, 0, 1, 1, 1, 0, 1, 0, 1, 1, 0, 0, 0, 1, 0, 1,\n",
       "       0, 0, 0, 0, 0, 0, 0, 1, 0, 0, 0, 0, 0, 0, 0, 0, 0, 0, 0, 0, 0, 0,\n",
       "       0, 0, 0, 0, 0, 0, 0, 0, 0, 0, 0, 1, 0, 0, 0, 0, 0, 0, 0, 0, 0, 1,\n",
       "       0, 1, 0, 0, 0, 0, 0, 0, 0, 0, 0, 0, 0, 0, 0, 1, 0, 0, 0, 0, 0, 1,\n",
       "       0, 1, 0, 0, 0, 0, 1, 0, 0, 1, 0, 1, 0, 0, 0, 0, 1, 0, 0, 1, 0, 0,\n",
       "       0, 0, 0, 0, 1, 0, 0, 0, 0, 0, 1, 0, 0, 0, 0, 1, 0, 0, 0, 0, 0, 0,\n",
       "       0, 1, 0, 1, 0, 0, 0, 0], dtype=int64)"
      ]
     },
     "execution_count": 12,
     "metadata": {},
     "output_type": "execute_result"
    }
   ],
   "source": [
    "clf = LogisticRegression(random_state=0).fit(X_train, y_train)\n",
    "y_pre=clf.predict(X_test)\n",
    "y_pre"
   ]
  },
  {
   "cell_type": "code",
   "execution_count": 13,
   "metadata": {},
   "outputs": [
    {
     "data": {
      "text/plain": [
       "array([[0.84046699, 0.15953301],\n",
       "       [0.49605961, 0.50394039],\n",
       "       [0.93773777, 0.06226223],\n",
       "       [0.76592985, 0.23407015],\n",
       "       [0.64822658, 0.35177342],\n",
       "       [0.65185782, 0.34814218],\n",
       "       [0.97344285, 0.02655715],\n",
       "       [0.95031988, 0.04968012],\n",
       "       [0.01210211, 0.98789789],\n",
       "       [0.31392829, 0.68607171],\n",
       "       [0.4438297 , 0.5561703 ],\n",
       "       [0.68019886, 0.31980114],\n",
       "       [0.27799792, 0.72200208],\n",
       "       [0.98512838, 0.01487162],\n",
       "       [0.04214669, 0.95785331],\n",
       "       [0.47232344, 0.52767656],\n",
       "       [0.82287463, 0.17712537],\n",
       "       [0.94623288, 0.05376712],\n",
       "       [0.7793527 , 0.2206473 ],\n",
       "       [0.23397705, 0.76602295],\n",
       "       [0.98132069, 0.01867931],\n",
       "       [0.12584168, 0.87415832],\n",
       "       [0.72692413, 0.27307587],\n",
       "       [0.75096372, 0.24903628],\n",
       "       [0.85271842, 0.14728158],\n",
       "       [0.79243836, 0.20756164],\n",
       "       [0.99784867, 0.00215133],\n",
       "       [0.68001546, 0.31998454],\n",
       "       [0.94094783, 0.05905217],\n",
       "       [0.24827735, 0.75172265],\n",
       "       [0.95296596, 0.04703404],\n",
       "       [0.93040815, 0.06959185],\n",
       "       [0.52404265, 0.47595735],\n",
       "       [0.85581512, 0.14418488],\n",
       "       [0.89187596, 0.10812404],\n",
       "       [0.9300318 , 0.0699682 ],\n",
       "       [0.72443615, 0.27556385],\n",
       "       [0.86712441, 0.13287559],\n",
       "       [0.66005308, 0.33994692],\n",
       "       [0.9761519 , 0.0238481 ],\n",
       "       [0.51458843, 0.48541157],\n",
       "       [0.98499627, 0.01500373],\n",
       "       [0.82405499, 0.17594501],\n",
       "       [0.68839109, 0.31160891],\n",
       "       [0.88464296, 0.11535704],\n",
       "       [0.73530322, 0.26469678],\n",
       "       [0.74251198, 0.25748802],\n",
       "       [0.97016557, 0.02983443],\n",
       "       [0.81292992, 0.18707008],\n",
       "       [0.94273897, 0.05726103],\n",
       "       [0.73488017, 0.26511983],\n",
       "       [0.80274319, 0.19725681],\n",
       "       [0.95528882, 0.04471118],\n",
       "       [0.70304014, 0.29695986],\n",
       "       [0.59188313, 0.40811687],\n",
       "       [0.25073817, 0.74926183],\n",
       "       [0.90147176, 0.09852824],\n",
       "       [0.85428594, 0.14571406],\n",
       "       [0.99227811, 0.00772189],\n",
       "       [0.9139839 , 0.0860161 ],\n",
       "       [0.52691256, 0.47308744],\n",
       "       [0.99717887, 0.00282113],\n",
       "       [0.76249998, 0.23750002],\n",
       "       [0.69271405, 0.30728595],\n",
       "       [0.96595402, 0.03404598],\n",
       "       [0.27414453, 0.72585547],\n",
       "       [0.71052502, 0.28947498],\n",
       "       [0.38868402, 0.61131598],\n",
       "       [0.88408227, 0.11591773],\n",
       "       [0.91983993, 0.08016007],\n",
       "       [0.70992659, 0.29007341],\n",
       "       [0.98227137, 0.01772863],\n",
       "       [0.91726247, 0.08273753],\n",
       "       [0.7617121 , 0.2382879 ],\n",
       "       [0.69837742, 0.30162258],\n",
       "       [0.86834914, 0.13165086],\n",
       "       [0.92823344, 0.07176656],\n",
       "       [0.99721243, 0.00278757],\n",
       "       [0.94176955, 0.05823045],\n",
       "       [0.91064226, 0.08935774],\n",
       "       [0.87038531, 0.12961469],\n",
       "       [0.45210632, 0.54789368],\n",
       "       [0.83065188, 0.16934812],\n",
       "       [0.86043116, 0.13956884],\n",
       "       [0.72774094, 0.27225906],\n",
       "       [0.76962658, 0.23037342],\n",
       "       [0.95530816, 0.04469184],\n",
       "       [0.24274368, 0.75725632],\n",
       "       [0.8536259 , 0.1463741 ],\n",
       "       [0.46173144, 0.53826856],\n",
       "       [0.92998632, 0.07001368],\n",
       "       [0.9976748 , 0.0023252 ],\n",
       "       [0.60466348, 0.39533652],\n",
       "       [0.82880672, 0.17119328],\n",
       "       [0.35124649, 0.64875351],\n",
       "       [0.97001784, 0.02998216],\n",
       "       [0.99060256, 0.00939744],\n",
       "       [0.47453884, 0.52546116],\n",
       "       [0.89077942, 0.10922058],\n",
       "       [0.35009297, 0.64990703],\n",
       "       [0.72052209, 0.27947791],\n",
       "       [0.50464926, 0.49535074],\n",
       "       [0.97877301, 0.02122699],\n",
       "       [0.55744312, 0.44255688],\n",
       "       [0.09908271, 0.90091729],\n",
       "       [0.95889185, 0.04110815],\n",
       "       [0.99177631, 0.00822369],\n",
       "       [0.37388567, 0.62611433],\n",
       "       [0.91388934, 0.08611066],\n",
       "       [0.99787226, 0.00212774],\n",
       "       [0.90986532, 0.09013468],\n",
       "       [0.76192607, 0.23807393],\n",
       "       [0.81989484, 0.18010516],\n",
       "       [0.88218331, 0.11781669],\n",
       "       [0.45149122, 0.54850878],\n",
       "       [0.99631471, 0.00368529],\n",
       "       [0.79842351, 0.20157649],\n",
       "       [0.84214017, 0.15785983],\n",
       "       [0.8183636 , 0.1816364 ],\n",
       "       [0.85904035, 0.14095965],\n",
       "       [0.21118928, 0.78881072],\n",
       "       [0.77410011, 0.22589989],\n",
       "       [0.96113503, 0.03886497],\n",
       "       [0.78471254, 0.21528746],\n",
       "       [0.98506728, 0.01493272],\n",
       "       [0.37322663, 0.62677337],\n",
       "       [0.79021757, 0.20978243],\n",
       "       [0.8149184 , 0.1850816 ],\n",
       "       [0.96950122, 0.03049878],\n",
       "       [0.97719314, 0.02280686],\n",
       "       [0.91692182, 0.08307818],\n",
       "       [0.98151376, 0.01848624],\n",
       "       [0.94110235, 0.05889765],\n",
       "       [0.43303217, 0.56696783],\n",
       "       [0.90683749, 0.09316251],\n",
       "       [0.428068  , 0.571932  ],\n",
       "       [0.88007599, 0.11992401],\n",
       "       [0.96045582, 0.03954418],\n",
       "       [0.68293731, 0.31706269],\n",
       "       [0.71694962, 0.28305038]])"
      ]
     },
     "execution_count": 13,
     "metadata": {},
     "output_type": "execute_result"
    }
   ],
   "source": [
    "clf.predict_proba(X_test)"
   ]
  },
  {
   "cell_type": "code",
   "execution_count": 14,
   "metadata": {},
   "outputs": [
    {
     "data": {
      "text/plain": [
       "0.8571428571428571"
      ]
     },
     "execution_count": 14,
     "metadata": {},
     "output_type": "execute_result"
    }
   ],
   "source": [
    "clf.score(X_test, y_test)"
   ]
  },
  {
   "cell_type": "code",
   "execution_count": 15,
   "metadata": {},
   "outputs": [
    {
     "data": {
      "text/plain": [
       "0.7964285714285714"
      ]
     },
     "execution_count": 15,
     "metadata": {},
     "output_type": "execute_result"
    }
   ],
   "source": [
    "clf.score(X_train, y_train)"
   ]
  },
  {
   "cell_type": "markdown",
   "metadata": {},
   "source": [
    "# 2. Print accuracy, confusion matrix, precision, recall, sensitivity and specifity on train and test (and maybe validation) datasets."
   ]
  },
  {
   "cell_type": "markdown",
   "metadata": {},
   "source": [
    "##### do not use any libraries for metrics, implement yourself"
   ]
  },
  {
   "cell_type": "markdown",
   "metadata": {},
   "source": [
    "### For test data"
   ]
  },
  {
   "cell_type": "code",
   "execution_count": 18,
   "metadata": {},
   "outputs": [
    {
     "data": {
      "text/plain": [
       "array([1, 0, 0, 0, 1, 0, 0, 0, 1, 1, 1, 0, 1, 0, 1, 1, 0, 0, 0, 1, 0, 1,\n",
       "       0, 0, 0, 1, 0, 0, 0, 1, 0, 0, 0, 0, 0, 0, 0, 0, 0, 0, 0, 0, 0, 0,\n",
       "       1, 1, 0, 0, 0, 0, 0, 0, 0, 0, 0, 1, 0, 0, 0, 0, 0, 0, 0, 0, 0, 1,\n",
       "       1, 1, 0, 0, 0, 0, 0, 0, 0, 1, 0, 0, 0, 0, 0, 0, 1, 0, 0, 1, 0, 1,\n",
       "       0, 1, 0, 0, 1, 0, 0, 0, 0, 0, 0, 1, 1, 1, 0, 1, 1, 0, 0, 1, 1, 0,\n",
       "       0, 0, 0, 0, 1, 0, 0, 0, 0, 0, 1, 0, 0, 0, 0, 1, 0, 0, 0, 0, 0, 0,\n",
       "       0, 1, 0, 1, 1, 0, 1, 0], dtype=int64)"
      ]
     },
     "execution_count": 18,
     "metadata": {},
     "output_type": "execute_result"
    }
   ],
   "source": [
    "y1=np.array(y_test)\n",
    "y1"
   ]
  },
  {
   "cell_type": "code",
   "execution_count": 17,
   "metadata": {},
   "outputs": [],
   "source": [
    "import numpy as np"
   ]
  },
  {
   "cell_type": "code",
   "execution_count": 19,
   "metadata": {},
   "outputs": [
    {
     "data": {
      "text/plain": [
       "array([0, 1, 0, 0, 0, 0, 0, 0, 1, 1, 1, 0, 1, 0, 1, 1, 0, 0, 0, 1, 0, 1,\n",
       "       0, 0, 0, 0, 0, 0, 0, 1, 0, 0, 0, 0, 0, 0, 0, 0, 0, 0, 0, 0, 0, 0,\n",
       "       0, 0, 0, 0, 0, 0, 0, 0, 0, 0, 0, 1, 0, 0, 0, 0, 0, 0, 0, 0, 0, 1,\n",
       "       0, 1, 0, 0, 0, 0, 0, 0, 0, 0, 0, 0, 0, 0, 0, 1, 0, 0, 0, 0, 0, 1,\n",
       "       0, 1, 0, 0, 0, 0, 1, 0, 0, 1, 0, 1, 0, 0, 0, 0, 1, 0, 0, 1, 0, 0,\n",
       "       0, 0, 0, 0, 1, 0, 0, 0, 0, 0, 1, 0, 0, 0, 0, 1, 0, 0, 0, 0, 0, 0,\n",
       "       0, 1, 0, 1, 0, 0, 0, 0], dtype=int64)"
      ]
     },
     "execution_count": 19,
     "metadata": {},
     "output_type": "execute_result"
    }
   ],
   "source": [
    "y_pre"
   ]
  },
  {
   "cell_type": "code",
   "execution_count": 20,
   "metadata": {},
   "outputs": [
    {
     "name": "stdout",
     "output_type": "stream",
     "text": [
      "22\n"
     ]
    }
   ],
   "source": [
    "true_positive_test = 0\n",
    "for i in range(len(y1)):\n",
    "    if y_pre[i]==1 and y1[i]==1:\n",
    "        true_positive_test +=1\n",
    "\n",
    "print(true_positive_test)      "
   ]
  },
  {
   "cell_type": "code",
   "execution_count": 21,
   "metadata": {},
   "outputs": [
    {
     "name": "stdout",
     "output_type": "stream",
     "text": [
      "98\n"
     ]
    }
   ],
   "source": [
    "true_negative_test=0\n",
    "for i in range(len(y1)):\n",
    "    if y_pre[i]==0 and y1[i]==0:\n",
    "        true_negative_test+=1\n",
    "print(true_negative_test)"
   ]
  },
  {
   "cell_type": "code",
   "execution_count": 22,
   "metadata": {},
   "outputs": [
    {
     "name": "stdout",
     "output_type": "stream",
     "text": [
      "4\n"
     ]
    }
   ],
   "source": [
    "false_positive_test = 0\n",
    "for i in range(len(y1)):\n",
    "    if y_pre[i]==1 and y1[i]==0:\n",
    "        false_positive_test+=1\n",
    "        \n",
    "print(false_positive_test)"
   ]
  },
  {
   "cell_type": "code",
   "execution_count": 23,
   "metadata": {},
   "outputs": [
    {
     "data": {
      "text/plain": [
       "0.8461538461538461"
      ]
     },
     "execution_count": 23,
     "metadata": {},
     "output_type": "execute_result"
    }
   ],
   "source": [
    "precision_test = true_positive_test/(true_positive_test + false_positive_test)\n",
    "precision_test"
   ]
  },
  {
   "cell_type": "code",
   "execution_count": 24,
   "metadata": {},
   "outputs": [
    {
     "name": "stdout",
     "output_type": "stream",
     "text": [
      "16\n"
     ]
    }
   ],
   "source": [
    "false_negative_test=0\n",
    "for i in range(len(y1)):\n",
    "    if y_pre[i]==0 and y1[i]==1:\n",
    "        false_negative_test +=1\n",
    "print(false_negative_test)"
   ]
  },
  {
   "cell_type": "code",
   "execution_count": 25,
   "metadata": {},
   "outputs": [
    {
     "data": {
      "text/plain": [
       "0.5789473684210527"
      ]
     },
     "execution_count": 25,
     "metadata": {},
     "output_type": "execute_result"
    }
   ],
   "source": [
    "recall_test = true_positive_test/(true_positive_test + false_negative_test)\n",
    "recall_test"
   ]
  },
  {
   "cell_type": "code",
   "execution_count": 26,
   "metadata": {},
   "outputs": [
    {
     "data": {
      "text/plain": [
       "0.5789473684210527"
      ]
     },
     "execution_count": 26,
     "metadata": {},
     "output_type": "execute_result"
    }
   ],
   "source": [
    "sensitivity_test= recall_test\n",
    "sensitivity_test"
   ]
  },
  {
   "cell_type": "code",
   "execution_count": 28,
   "metadata": {},
   "outputs": [
    {
     "data": {
      "text/plain": [
       "0.9607843137254902"
      ]
     },
     "execution_count": 28,
     "metadata": {},
     "output_type": "execute_result"
    }
   ],
   "source": [
    "specifity_test=true_negative_test/(true_negative_test + false_positive_test)\n",
    "specifity_test"
   ]
  },
  {
   "cell_type": "code",
   "execution_count": 29,
   "metadata": {},
   "outputs": [
    {
     "data": {
      "text/html": [
       "<div>\n",
       "<style scoped>\n",
       "    .dataframe tbody tr th:only-of-type {\n",
       "        vertical-align: middle;\n",
       "    }\n",
       "\n",
       "    .dataframe tbody tr th {\n",
       "        vertical-align: top;\n",
       "    }\n",
       "\n",
       "    .dataframe thead th {\n",
       "        text-align: right;\n",
       "    }\n",
       "</style>\n",
       "<table border=\"1\" class=\"dataframe\">\n",
       "  <thead>\n",
       "    <tr style=\"text-align: right;\">\n",
       "      <th></th>\n",
       "      <th>Positive</th>\n",
       "      <th>Negative</th>\n",
       "    </tr>\n",
       "  </thead>\n",
       "  <tbody>\n",
       "    <tr>\n",
       "      <th>Positive</th>\n",
       "      <td>22</td>\n",
       "      <td>4</td>\n",
       "    </tr>\n",
       "    <tr>\n",
       "      <th>Negative</th>\n",
       "      <td>16</td>\n",
       "      <td>98</td>\n",
       "    </tr>\n",
       "  </tbody>\n",
       "</table>\n",
       "</div>"
      ],
      "text/plain": [
       "          Positive  Negative\n",
       "Positive        22         4\n",
       "Negative        16        98"
      ]
     },
     "execution_count": 29,
     "metadata": {},
     "output_type": "execute_result"
    }
   ],
   "source": [
    "data_test=[[true_positive_test, false_positive_test], [false_negative_test, true_negative_test]]\n",
    "col = ['Positive', 'Negative']\n",
    "confusion_matrix_test= pd.DataFrame(data_test, columns = col, index =col)\n",
    "confusion_matrix_test"
   ]
  },
  {
   "cell_type": "code",
   "execution_count": 30,
   "metadata": {},
   "outputs": [],
   "source": [
    "from sklearn.metrics import confusion_matrix"
   ]
  },
  {
   "cell_type": "code",
   "execution_count": 31,
   "metadata": {},
   "outputs": [
    {
     "data": {
      "text/plain": [
       "array([[98,  4],\n",
       "       [16, 22]], dtype=int64)"
      ]
     },
     "execution_count": 31,
     "metadata": {},
     "output_type": "execute_result"
    }
   ],
   "source": [
    "confusion_matrix(y1, y_pre)\n",
    "# սա ինչի ա 98 ու 22ի տեղերը տարբեր?"
   ]
  },
  {
   "cell_type": "code",
   "execution_count": 46,
   "metadata": {},
   "outputs": [
    {
     "data": {
      "text/plain": [
       "0.8571428571428571"
      ]
     },
     "execution_count": 46,
     "metadata": {},
     "output_type": "execute_result"
    }
   ],
   "source": [
    "accur_test = (true_positive_test+ true_negative_test)/(true_positive_test+ true_negative_test + false_positive_test+false_negative_test)\n",
    "accur_test"
   ]
  },
  {
   "cell_type": "markdown",
   "metadata": {},
   "source": [
    "### For train data"
   ]
  },
  {
   "cell_type": "code",
   "execution_count": 32,
   "metadata": {},
   "outputs": [
    {
     "data": {
      "text/plain": [
       "array([0, 0, 0, 0, 0, 0, 0, 0, 0, 0, 0, 0, 1, 0, 0, 0, 0, 0, 0, 0, 0, 0,\n",
       "       0, 0, 0, 0, 0, 0, 0, 0, 0, 0, 0, 0, 0, 0, 0, 0, 0, 1, 0, 0, 1, 0,\n",
       "       1, 0, 0, 0, 0, 1, 1, 0, 0, 0, 0, 0, 1, 0, 0, 0, 0, 0, 0, 0, 0, 0,\n",
       "       1, 1, 0, 0, 1, 1, 0, 1, 0, 0, 1, 0, 0, 0, 0, 0, 0, 0, 0, 1, 0, 0,\n",
       "       0, 0, 1, 0, 0, 0, 0, 0, 1, 1, 0, 0, 1, 0, 0, 0, 0, 0, 0, 1, 0, 0,\n",
       "       0, 0, 0, 0, 0, 0, 0, 0, 0, 1, 0, 0, 0, 0, 0, 0, 0, 0, 0, 0, 1, 0,\n",
       "       0, 0, 0, 1, 1, 1, 0, 0, 0, 0, 0, 0, 0, 0, 1, 0, 1, 0, 1, 1, 0, 1,\n",
       "       0, 0, 0, 0, 1, 0, 0, 0, 0, 0, 0, 0, 0, 1, 0, 0, 0, 0, 1, 1, 0, 0,\n",
       "       0, 0, 0, 0, 0, 0, 1, 0, 0, 0, 0, 0, 0, 0, 0, 1, 0, 0, 0, 0, 0, 0,\n",
       "       1, 0, 1, 0, 0, 0, 1, 0, 0, 0, 0, 0, 1, 0, 0, 0, 0, 0, 0, 0, 0, 0,\n",
       "       0, 0, 0, 1, 0, 0, 0, 0, 0, 0, 0, 0, 0, 0, 1, 0, 0, 0, 1, 0, 0, 0,\n",
       "       1, 0, 0, 0, 0, 0, 0, 0, 0, 0, 0, 0, 0, 1, 0, 0, 0, 0, 1, 0, 0, 0,\n",
       "       0, 0, 0, 0, 1, 0, 0, 0, 1, 0, 0, 0, 0, 0, 0, 0, 0, 0, 0, 0, 0, 0,\n",
       "       0, 0, 0, 0, 1, 0, 0, 0, 0, 0, 0, 0, 0, 0, 0, 0, 0, 0, 0, 1, 0, 0,\n",
       "       0, 1, 1, 0, 1, 0, 0, 0, 0, 0, 0, 0, 0, 0, 0, 0, 0, 0, 0, 0, 0, 1,\n",
       "       1, 0, 1, 0, 0, 0, 0, 0, 1, 0, 1, 0, 0, 0, 0, 0, 1, 0, 0, 0, 0, 0,\n",
       "       0, 0, 0, 0, 0, 0, 0, 1, 0, 0, 0, 0, 0, 1, 0, 0, 0, 0, 0, 0, 0, 0,\n",
       "       1, 1, 0, 0, 0, 0, 0, 1, 0, 0, 0, 0, 0, 0, 0, 0, 0, 0, 0, 0, 0, 0,\n",
       "       0, 1, 0, 0, 1, 0, 1, 0, 0, 0, 1, 0, 0, 0, 0, 1, 0, 0, 0, 0, 1, 0,\n",
       "       0, 0, 0, 0, 0, 0, 0, 0, 1, 0, 0, 1, 0, 0, 0, 0, 0, 1, 0, 0, 1, 0,\n",
       "       0, 0, 0, 0, 1, 0, 0, 0, 0, 0, 0, 0, 0, 0, 0, 0, 0, 0, 0, 0, 0, 1,\n",
       "       0, 0, 1, 0, 0, 0, 0, 0, 0, 0, 0, 0, 0, 1, 0, 0, 0, 0, 0, 0, 0, 1,\n",
       "       0, 0, 0, 0, 0, 0, 0, 0, 0, 0, 0, 0, 0, 0, 0, 0, 0, 1, 0, 1, 0, 0,\n",
       "       0, 1, 1, 0, 0, 0, 0, 0, 0, 0, 0, 0, 1, 0, 1, 0, 0, 0, 0, 0, 1, 0,\n",
       "       0, 0, 0, 0, 0, 0, 0, 1, 0, 1, 1, 0, 1, 0, 0, 0, 0, 0, 0, 1, 1, 0,\n",
       "       0, 1, 0, 0, 0, 1, 0, 0, 0, 0], dtype=int64)"
      ]
     },
     "execution_count": 32,
     "metadata": {},
     "output_type": "execute_result"
    }
   ],
   "source": [
    "y_pre_train=clf.predict(X_train)\n",
    "y_pre_train"
   ]
  },
  {
   "cell_type": "code",
   "execution_count": 33,
   "metadata": {},
   "outputs": [
    {
     "data": {
      "text/plain": [
       "array([0, 0, 0, 0, 0, 0, 0, 0, 0, 0, 0, 0, 1, 0, 1, 1, 0, 0, 0, 0, 0, 0,\n",
       "       0, 0, 0, 0, 0, 0, 0, 0, 1, 0, 1, 0, 0, 0, 0, 0, 0, 0, 0, 0, 0, 0,\n",
       "       0, 0, 0, 0, 0, 1, 1, 0, 0, 0, 0, 0, 1, 0, 0, 0, 0, 0, 0, 0, 1, 0,\n",
       "       1, 1, 0, 0, 1, 0, 0, 1, 0, 0, 1, 0, 0, 1, 0, 1, 0, 0, 1, 1, 0, 1,\n",
       "       0, 0, 1, 0, 1, 0, 0, 0, 0, 0, 0, 0, 0, 0, 1, 0, 0, 0, 0, 1, 0, 0,\n",
       "       1, 0, 0, 1, 1, 0, 1, 0, 0, 0, 0, 0, 0, 0, 1, 1, 1, 0, 0, 0, 1, 0,\n",
       "       0, 0, 0, 1, 1, 1, 0, 0, 1, 0, 0, 0, 1, 0, 1, 0, 1, 0, 1, 1, 0, 0,\n",
       "       0, 0, 0, 0, 1, 0, 0, 0, 1, 0, 0, 0, 0, 1, 0, 0, 0, 0, 0, 1, 0, 1,\n",
       "       0, 0, 0, 1, 0, 1, 1, 0, 0, 1, 0, 1, 0, 0, 0, 0, 0, 0, 0, 0, 0, 1,\n",
       "       0, 0, 0, 1, 1, 0, 1, 0, 0, 0, 1, 0, 1, 0, 1, 0, 0, 0, 0, 0, 0, 1,\n",
       "       0, 1, 0, 1, 0, 0, 0, 0, 0, 0, 0, 0, 0, 0, 0, 0, 0, 1, 1, 0, 0, 0,\n",
       "       1, 0, 0, 0, 0, 0, 0, 0, 0, 0, 1, 1, 1, 1, 0, 0, 1, 1, 0, 0, 0, 0,\n",
       "       0, 1, 1, 0, 1, 0, 0, 0, 1, 0, 0, 0, 0, 0, 0, 0, 1, 0, 1, 0, 0, 0,\n",
       "       0, 0, 0, 0, 1, 0, 0, 1, 0, 0, 0, 0, 0, 0, 0, 0, 1, 0, 1, 1, 0, 0,\n",
       "       0, 1, 0, 0, 1, 0, 0, 0, 1, 0, 0, 1, 0, 0, 0, 0, 0, 0, 1, 0, 0, 0,\n",
       "       1, 0, 1, 0, 0, 0, 0, 0, 0, 0, 1, 0, 0, 0, 0, 0, 0, 1, 0, 0, 0, 0,\n",
       "       0, 0, 0, 0, 0, 0, 0, 1, 1, 1, 0, 0, 0, 1, 1, 1, 0, 0, 0, 1, 0, 0,\n",
       "       0, 1, 0, 0, 0, 0, 0, 0, 0, 0, 1, 0, 1, 0, 1, 0, 1, 0, 1, 0, 1, 0,\n",
       "       0, 0, 0, 0, 1, 0, 1, 0, 0, 0, 0, 0, 0, 0, 1, 1, 0, 0, 0, 0, 0, 0,\n",
       "       0, 0, 0, 0, 0, 0, 0, 0, 0, 0, 0, 1, 1, 0, 0, 0, 0, 1, 0, 0, 1, 0,\n",
       "       0, 0, 1, 0, 1, 0, 0, 0, 1, 0, 0, 0, 0, 0, 0, 0, 0, 0, 0, 0, 0, 1,\n",
       "       1, 0, 1, 0, 0, 1, 0, 1, 0, 0, 0, 0, 0, 1, 0, 0, 0, 1, 0, 0, 1, 1,\n",
       "       0, 0, 0, 1, 0, 0, 0, 1, 0, 1, 0, 0, 1, 0, 1, 0, 0, 0, 0, 1, 0, 1,\n",
       "       1, 1, 1, 0, 0, 0, 0, 0, 0, 1, 0, 0, 1, 0, 1, 0, 0, 0, 0, 0, 0, 0,\n",
       "       0, 0, 0, 0, 0, 0, 0, 1, 0, 0, 1, 1, 1, 0, 1, 0, 0, 1, 0, 0, 0, 0,\n",
       "       0, 1, 1, 0, 0, 0, 1, 0, 0, 0], dtype=int64)"
      ]
     },
     "execution_count": 33,
     "metadata": {},
     "output_type": "execute_result"
    }
   ],
   "source": [
    "y2=np.array(y_train)\n",
    "y2"
   ]
  },
  {
   "cell_type": "code",
   "execution_count": 34,
   "metadata": {},
   "outputs": [
    {
     "data": {
      "text/plain": [
       "560"
      ]
     },
     "execution_count": 34,
     "metadata": {},
     "output_type": "execute_result"
    }
   ],
   "source": [
    "len(y2)"
   ]
  },
  {
   "cell_type": "code",
   "execution_count": 35,
   "metadata": {},
   "outputs": [
    {
     "name": "stdout",
     "output_type": "stream",
     "text": [
      "62\n"
     ]
    }
   ],
   "source": [
    "true_positive_train = 0\n",
    "for i in range(len(y2)):\n",
    "    if y_pre_train[i]==1 and y2[i]==1:\n",
    "        true_positive_train +=1\n",
    "\n",
    "print(true_positive_train)      "
   ]
  },
  {
   "cell_type": "code",
   "execution_count": 36,
   "metadata": {},
   "outputs": [
    {
     "name": "stdout",
     "output_type": "stream",
     "text": [
      "384\n"
     ]
    }
   ],
   "source": [
    "true_negative_train=0\n",
    "for i in range(len(y2)):\n",
    "    if y_pre_train[i]==0 and y2[i]==0:\n",
    "        true_negative_train+=1\n",
    "print(true_negative_train)"
   ]
  },
  {
   "cell_type": "code",
   "execution_count": 37,
   "metadata": {},
   "outputs": [
    {
     "name": "stdout",
     "output_type": "stream",
     "text": [
      "31\n"
     ]
    }
   ],
   "source": [
    "false_positive_train = 0\n",
    "for i in range(len(y2)):\n",
    "    if y_pre_train[i]==1 and y2[i]==0:\n",
    "        false_positive_train+=1\n",
    "        \n",
    "print(false_positive_train)"
   ]
  },
  {
   "cell_type": "code",
   "execution_count": 38,
   "metadata": {},
   "outputs": [
    {
     "data": {
      "text/plain": [
       "0.6666666666666666"
      ]
     },
     "execution_count": 38,
     "metadata": {},
     "output_type": "execute_result"
    }
   ],
   "source": [
    "precision_train = true_positive_train/(true_positive_train + false_positive_train)\n",
    "precision_train"
   ]
  },
  {
   "cell_type": "code",
   "execution_count": 39,
   "metadata": {},
   "outputs": [
    {
     "name": "stdout",
     "output_type": "stream",
     "text": [
      "83\n"
     ]
    }
   ],
   "source": [
    "false_negative_train=0\n",
    "for i in range(len(y2)):\n",
    "    if y_pre_train[i]==0 and y2[i]==1:\n",
    "        false_negative_train +=1\n",
    "print(false_negative_train)"
   ]
  },
  {
   "cell_type": "code",
   "execution_count": 40,
   "metadata": {},
   "outputs": [
    {
     "data": {
      "text/plain": [
       "0.42758620689655175"
      ]
     },
     "execution_count": 40,
     "metadata": {},
     "output_type": "execute_result"
    }
   ],
   "source": [
    "recall_train = true_positive_train/(true_positive_train + false_negative_train)\n",
    "recall_train"
   ]
  },
  {
   "cell_type": "code",
   "execution_count": 41,
   "metadata": {},
   "outputs": [
    {
     "data": {
      "text/plain": [
       "0.42758620689655175"
      ]
     },
     "execution_count": 41,
     "metadata": {},
     "output_type": "execute_result"
    }
   ],
   "source": [
    "sensitivity_train= recall_train\n",
    "sensitivity_train"
   ]
  },
  {
   "cell_type": "code",
   "execution_count": 42,
   "metadata": {},
   "outputs": [
    {
     "data": {
      "text/plain": [
       "0.9253012048192771"
      ]
     },
     "execution_count": 42,
     "metadata": {},
     "output_type": "execute_result"
    }
   ],
   "source": [
    "specifity_train=true_negative_train/(true_negative_train + false_positive_train)\n",
    "specifity_train"
   ]
  },
  {
   "cell_type": "code",
   "execution_count": 43,
   "metadata": {},
   "outputs": [
    {
     "data": {
      "text/html": [
       "<div>\n",
       "<style scoped>\n",
       "    .dataframe tbody tr th:only-of-type {\n",
       "        vertical-align: middle;\n",
       "    }\n",
       "\n",
       "    .dataframe tbody tr th {\n",
       "        vertical-align: top;\n",
       "    }\n",
       "\n",
       "    .dataframe thead th {\n",
       "        text-align: right;\n",
       "    }\n",
       "</style>\n",
       "<table border=\"1\" class=\"dataframe\">\n",
       "  <thead>\n",
       "    <tr style=\"text-align: right;\">\n",
       "      <th></th>\n",
       "      <th>Positive</th>\n",
       "      <th>Negative</th>\n",
       "    </tr>\n",
       "  </thead>\n",
       "  <tbody>\n",
       "    <tr>\n",
       "      <th>Positive</th>\n",
       "      <td>62</td>\n",
       "      <td>31</td>\n",
       "    </tr>\n",
       "    <tr>\n",
       "      <th>Negative</th>\n",
       "      <td>83</td>\n",
       "      <td>384</td>\n",
       "    </tr>\n",
       "  </tbody>\n",
       "</table>\n",
       "</div>"
      ],
      "text/plain": [
       "          Positive  Negative\n",
       "Positive        62        31\n",
       "Negative        83       384"
      ]
     },
     "execution_count": 43,
     "metadata": {},
     "output_type": "execute_result"
    }
   ],
   "source": [
    "data_train=[[true_positive_train, false_positive_train], [false_negative_train, true_negative_train]]\n",
    "col = ['Positive', 'Negative']\n",
    "confusion_matrix_train= pd.DataFrame(data_train, columns = col, index =col)\n",
    "confusion_matrix_train"
   ]
  },
  {
   "cell_type": "code",
   "execution_count": 47,
   "metadata": {},
   "outputs": [
    {
     "data": {
      "text/plain": [
       "0.7964285714285714"
      ]
     },
     "execution_count": 47,
     "metadata": {},
     "output_type": "execute_result"
    }
   ],
   "source": [
    "accur_train = (true_positive_train+ true_negative_train)/(true_positive_train+ true_negative_train + false_positive_train+false_negative_train)\n",
    "accur_train"
   ]
  },
  {
   "cell_type": "code",
   "execution_count": null,
   "metadata": {},
   "outputs": [],
   "source": []
  },
  {
   "cell_type": "code",
   "execution_count": null,
   "metadata": {},
   "outputs": [],
   "source": []
  }
 ],
 "metadata": {
  "kernelspec": {
   "display_name": "Python 3",
   "language": "python",
   "name": "python3"
  },
  "language_info": {
   "codemirror_mode": {
    "name": "ipython",
    "version": 3
   },
   "file_extension": ".py",
   "mimetype": "text/x-python",
   "name": "python",
   "nbconvert_exporter": "python",
   "pygments_lexer": "ipython3",
   "version": "3.7.6"
  }
 },
 "nbformat": 4,
 "nbformat_minor": 4
}
